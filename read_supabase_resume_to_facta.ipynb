{
 "cells": [
  {
   "cell_type": "code",
   "execution_count": 34,
   "id": "d3c16935-0438-4653-89f6-9ea385a30617",
   "metadata": {},
   "outputs": [],
   "source": [
    "import os\n",
    "import pandas as pd\n",
    "\n",
    "directory = os.fsencode(\"csv_extract_cessoes\")\n",
    "\n",
    "df_merge = pd.DataFrame(columns=['codigo_contrato', 'convenio'])\n",
    "\n",
    "for file in os.listdir(directory):\n",
    "    filename = os.fsdecode(file)\n",
    "    if filename.endswith(\".csv\"): \n",
    "        df = pd.read_csv(f\"csv_extract_cessoes/{filename}\", delimiter=\";\")\n",
    "        df = df[['n_contrato', 'entidade_conveniada']]\n",
    "        df['entidade_conveniada'] = get_codigo_estado(df['entidade_conveniada'].to_list())\n",
    "        df = df.rename({'n_contrato': 'codigo_contrato', 'entidade_conveniada': 'convenio'}, axis='columns')\n",
    "        df_merge = pd.concat([df_merge, df])\n",
    "        continue\n",
    "    else:\n",
    "        continue"
   ]
  },
  {
   "cell_type": "code",
   "execution_count": 35,
   "id": "7d46505f-f9ee-4539-9c06-06025f8d3270",
   "metadata": {},
   "outputs": [],
   "source": [
    "df_merge.to_csv(\"cc.csv\")"
   ]
  },
  {
   "cell_type": "code",
   "execution_count": 9,
   "id": "94caf5e9-ca6c-40b4-9b8e-fbe0ac67968f",
   "metadata": {},
   "outputs": [],
   "source": [
    "CONVENIO_ESTADO = {'202246 - GOV PARAIBA': 'PB', '202292 - GOV S. CATARINA': 'SC', \n",
    "                   '000006 - SIAPE CONSIG': 'BR', 'MINISTERIO DA AGRICULTURA E PECUARIA': 'BR', \n",
    "                   'SERVIDOR PÚBLICO FEDERAL': 'BR', '202297 - GOV SÃO PAULO': 'SP', '000008 - GOV MARANHÃO': 'MA',\n",
    "                   '202298 - GOV MT CB CLICK': 'MT', '202249 - GOV MATO GROSSO': 'MT', 'GOVERNO DO MATO GROSSO': 'MT',\n",
    "                   'GOVERNO DO MARANHÃO': 'MA', 'GOVERNO DO MARANHAO': 'MA', 'SERVIDOR PUBLICO FEDERAL': 'BR', '202304 - SPPREV': 'SP'}\n",
    "\n",
    "SIGLA_CODIGO = {'AC': '12', 'AL': '27', 'AM': '13', 'AP':'16', 'BA': '29', 'CE':'23', 'DF':'53', 'ES': '32', 'GO': '52',\n",
    "                'MA': '21', 'MG': '31', 'MS': '50', 'MT': '51', 'PA': '15', 'PB': '25', 'PE': '26', 'PI': '22', 'PR': '41',\n",
    "                'RJ': '33', 'RN': '24', 'RO': '11', 'RR': '14', 'SC': '43', 'SC': '42', 'SE':'28', 'SP': '35', 'TO': '17', 'BR': \"BR\", 'INSS': \"INSS\", 'SIAPE': \"BR\",\n",
    "                'ANTECIPAÇÃO': \"ANTECIPACAO\", \"PREF FLORIPA\": \"PREF FLORIPA\", \"PREF SP\": \"PREF SP\"}\n",
    "\n",
    "def get_codigo_estado(siglas_list):\n",
    "    codigo_estados = [CONVENIO_ESTADO[x.strip()] for x in siglas_list]\n",
    "    return codigo_estados"
   ]
  }
 ],
 "metadata": {
  "kernelspec": {
   "display_name": "Python 3 (ipykernel)",
   "language": "python",
   "name": "python3"
  },
  "language_info": {
   "codemirror_mode": {
    "name": "ipython",
    "version": 3
   },
   "file_extension": ".py",
   "mimetype": "text/x-python",
   "name": "python",
   "nbconvert_exporter": "python",
   "pygments_lexer": "ipython3",
   "version": "3.12.1"
  }
 },
 "nbformat": 4,
 "nbformat_minor": 5
}
